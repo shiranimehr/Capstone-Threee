{
  "nbformat": 4,
  "nbformat_minor": 0,
  "metadata": {
    "colab": {
      "name": "Capstone3.ipynb",
      "provenance": [],
      "collapsed_sections": [],
      "include_colab_link": true
    },
    "kernelspec": {
      "name": "python3",
      "display_name": "Python 3"
    },
    "accelerator": "TPU"
  },
  "cells": [
    {
      "cell_type": "markdown",
      "metadata": {
        "id": "view-in-github",
        "colab_type": "text"
      },
      "source": [
        "<a href=\"https://colab.research.google.com/github/shiranimehr/Capstone-Threee/blob/master/Capstone3-Oct13.ipynb\" target=\"_parent\"><img src=\"https://colab.research.google.com/assets/colab-badge.svg\" alt=\"Open In Colab\"/></a>"
      ]
    },
    {
      "cell_type": "markdown",
      "metadata": {
        "id": "CzsC6lqGxN-s"
      },
      "source": [
        "First, we import required libraries."
      ]
    },
    {
      "cell_type": "code",
      "metadata": {
        "id": "N-lvS0N0UUvC"
      },
      "source": [
        "import pandas as pd\n",
        "import matplotlib.pyplot as plt\n",
        "import numpy as np\n",
        "import urllib\n",
        "import os.path\n",
        "from os import path\n",
        "import matplotlib.image as mpimg \n",
        "import PIL\n",
        "import random\n",
        "import datetime\n",
        "import os\n",
        "import shutil\n",
        "from google.colab import drive\n",
        "import requests\n",
        "import cv2\n",
        "import keras\n",
        "from keras.layers import Dense,GlobalAveragePooling2D\n",
        "from keras.applications import MobileNet\n",
        "from keras.preprocessing import image\n",
        "from keras.applications.mobilenet import preprocess_input\n",
        "from keras.preprocessing.image import ImageDataGenerator\n",
        "from keras.models import Model\n",
        "from keras.optimizers import Adam\n",
        "from keras.preprocessing.image import ImageDataGenerator, array_to_img, img_to_array, load_img"
      ],
      "execution_count": null,
      "outputs": []
    },
    {
      "cell_type": "markdown",
      "metadata": {
        "id": "E0mxLeKaw_zj"
      },
      "source": [
        "Mount drive:"
      ]
    },
    {
      "cell_type": "code",
      "metadata": {
        "id": "0ItFRxQvIbuW",
        "outputId": "278a31e3-48c7-4a99-f6f7-3c50597f1d22",
        "colab": {
          "base_uri": "https://localhost:8080/",
          "height": 34
        }
      },
      "source": [
        "drive.mount('/content/drive', force_remount=True)"
      ],
      "execution_count": null,
      "outputs": [
        {
          "output_type": "stream",
          "text": [
            "Mounted at /content/drive\n"
          ],
          "name": "stdout"
        }
      ]
    },
    {
      "cell_type": "markdown",
      "metadata": {
        "id": "b4TVjI9axVI5"
      },
      "source": [
        "Get meta data from URL:"
      ]
    },
    {
      "cell_type": "code",
      "metadata": {
        "id": "qglSYO5fVVa9",
        "outputId": "45865e1f-370f-4a55-ff4c-ab3a3d8b7bb9",
        "colab": {
          "base_uri": "https://localhost:8080/",
          "height": 581
        }
      },
      "source": [
        "metaData = pd.read_csv('https://raw.githubusercontent.com/ieee8023/covid-chestxray-dataset/master/metadata.csv')\n",
        "metaData.head()"
      ],
      "execution_count": null,
      "outputs": [
        {
          "output_type": "execute_result",
          "data": {
            "text/html": [
              "<div>\n",
              "<style scoped>\n",
              "    .dataframe tbody tr th:only-of-type {\n",
              "        vertical-align: middle;\n",
              "    }\n",
              "\n",
              "    .dataframe tbody tr th {\n",
              "        vertical-align: top;\n",
              "    }\n",
              "\n",
              "    .dataframe thead th {\n",
              "        text-align: right;\n",
              "    }\n",
              "</style>\n",
              "<table border=\"1\" class=\"dataframe\">\n",
              "  <thead>\n",
              "    <tr style=\"text-align: right;\">\n",
              "      <th></th>\n",
              "      <th>patientid</th>\n",
              "      <th>offset</th>\n",
              "      <th>sex</th>\n",
              "      <th>age</th>\n",
              "      <th>finding</th>\n",
              "      <th>RT_PCR_positive</th>\n",
              "      <th>survival</th>\n",
              "      <th>intubated</th>\n",
              "      <th>intubation_present</th>\n",
              "      <th>went_icu</th>\n",
              "      <th>in_icu</th>\n",
              "      <th>needed_supplemental_O2</th>\n",
              "      <th>extubated</th>\n",
              "      <th>temperature</th>\n",
              "      <th>pO2_saturation</th>\n",
              "      <th>leukocyte_count</th>\n",
              "      <th>neutrophil_count</th>\n",
              "      <th>lymphocyte_count</th>\n",
              "      <th>view</th>\n",
              "      <th>modality</th>\n",
              "      <th>date</th>\n",
              "      <th>location</th>\n",
              "      <th>folder</th>\n",
              "      <th>filename</th>\n",
              "      <th>doi</th>\n",
              "      <th>url</th>\n",
              "      <th>license</th>\n",
              "      <th>clinical_notes</th>\n",
              "      <th>other_notes</th>\n",
              "      <th>Unnamed: 29</th>\n",
              "    </tr>\n",
              "  </thead>\n",
              "  <tbody>\n",
              "    <tr>\n",
              "      <th>0</th>\n",
              "      <td>2</td>\n",
              "      <td>0.0</td>\n",
              "      <td>M</td>\n",
              "      <td>65.0</td>\n",
              "      <td>Pneumonia/Viral/COVID-19</td>\n",
              "      <td>Y</td>\n",
              "      <td>Y</td>\n",
              "      <td>N</td>\n",
              "      <td>N</td>\n",
              "      <td>N</td>\n",
              "      <td>N</td>\n",
              "      <td>Y</td>\n",
              "      <td>NaN</td>\n",
              "      <td>NaN</td>\n",
              "      <td>NaN</td>\n",
              "      <td>NaN</td>\n",
              "      <td>NaN</td>\n",
              "      <td>NaN</td>\n",
              "      <td>PA</td>\n",
              "      <td>X-ray</td>\n",
              "      <td>January 22, 2020</td>\n",
              "      <td>Cho Ray Hospital, Ho Chi Minh City, Vietnam</td>\n",
              "      <td>images</td>\n",
              "      <td>auntminnie-a-2020_01_28_23_51_6665_2020_01_28_...</td>\n",
              "      <td>10.1056/nejmc2001272</td>\n",
              "      <td>https://www.nejm.org/doi/full/10.1056/NEJMc200...</td>\n",
              "      <td>NaN</td>\n",
              "      <td>On January 22, 2020, a 65-year-old man with a ...</td>\n",
              "      <td>NaN</td>\n",
              "      <td>NaN</td>\n",
              "    </tr>\n",
              "    <tr>\n",
              "      <th>1</th>\n",
              "      <td>2</td>\n",
              "      <td>3.0</td>\n",
              "      <td>M</td>\n",
              "      <td>65.0</td>\n",
              "      <td>Pneumonia/Viral/COVID-19</td>\n",
              "      <td>Y</td>\n",
              "      <td>Y</td>\n",
              "      <td>N</td>\n",
              "      <td>N</td>\n",
              "      <td>N</td>\n",
              "      <td>N</td>\n",
              "      <td>Y</td>\n",
              "      <td>NaN</td>\n",
              "      <td>NaN</td>\n",
              "      <td>NaN</td>\n",
              "      <td>NaN</td>\n",
              "      <td>NaN</td>\n",
              "      <td>NaN</td>\n",
              "      <td>PA</td>\n",
              "      <td>X-ray</td>\n",
              "      <td>January 25, 2020</td>\n",
              "      <td>Cho Ray Hospital, Ho Chi Minh City, Vietnam</td>\n",
              "      <td>images</td>\n",
              "      <td>auntminnie-b-2020_01_28_23_51_6665_2020_01_28_...</td>\n",
              "      <td>10.1056/nejmc2001272</td>\n",
              "      <td>https://www.nejm.org/doi/full/10.1056/NEJMc200...</td>\n",
              "      <td>NaN</td>\n",
              "      <td>On January 22, 2020, a 65-year-old man with a ...</td>\n",
              "      <td>NaN</td>\n",
              "      <td>NaN</td>\n",
              "    </tr>\n",
              "    <tr>\n",
              "      <th>2</th>\n",
              "      <td>2</td>\n",
              "      <td>5.0</td>\n",
              "      <td>M</td>\n",
              "      <td>65.0</td>\n",
              "      <td>Pneumonia/Viral/COVID-19</td>\n",
              "      <td>Y</td>\n",
              "      <td>Y</td>\n",
              "      <td>N</td>\n",
              "      <td>N</td>\n",
              "      <td>N</td>\n",
              "      <td>N</td>\n",
              "      <td>Y</td>\n",
              "      <td>NaN</td>\n",
              "      <td>NaN</td>\n",
              "      <td>NaN</td>\n",
              "      <td>NaN</td>\n",
              "      <td>NaN</td>\n",
              "      <td>NaN</td>\n",
              "      <td>PA</td>\n",
              "      <td>X-ray</td>\n",
              "      <td>January 27, 2020</td>\n",
              "      <td>Cho Ray Hospital, Ho Chi Minh City, Vietnam</td>\n",
              "      <td>images</td>\n",
              "      <td>auntminnie-c-2020_01_28_23_51_6665_2020_01_28_...</td>\n",
              "      <td>10.1056/nejmc2001272</td>\n",
              "      <td>https://www.nejm.org/doi/full/10.1056/NEJMc200...</td>\n",
              "      <td>NaN</td>\n",
              "      <td>On January 22, 2020, a 65-year-old man with a ...</td>\n",
              "      <td>NaN</td>\n",
              "      <td>NaN</td>\n",
              "    </tr>\n",
              "    <tr>\n",
              "      <th>3</th>\n",
              "      <td>2</td>\n",
              "      <td>6.0</td>\n",
              "      <td>M</td>\n",
              "      <td>65.0</td>\n",
              "      <td>Pneumonia/Viral/COVID-19</td>\n",
              "      <td>Y</td>\n",
              "      <td>Y</td>\n",
              "      <td>N</td>\n",
              "      <td>N</td>\n",
              "      <td>N</td>\n",
              "      <td>N</td>\n",
              "      <td>Y</td>\n",
              "      <td>NaN</td>\n",
              "      <td>NaN</td>\n",
              "      <td>NaN</td>\n",
              "      <td>NaN</td>\n",
              "      <td>NaN</td>\n",
              "      <td>NaN</td>\n",
              "      <td>PA</td>\n",
              "      <td>X-ray</td>\n",
              "      <td>January 28, 2020</td>\n",
              "      <td>Cho Ray Hospital, Ho Chi Minh City, Vietnam</td>\n",
              "      <td>images</td>\n",
              "      <td>auntminnie-d-2020_01_28_23_51_6665_2020_01_28_...</td>\n",
              "      <td>10.1056/nejmc2001272</td>\n",
              "      <td>https://www.nejm.org/doi/full/10.1056/NEJMc200...</td>\n",
              "      <td>NaN</td>\n",
              "      <td>On January 22, 2020, a 65-year-old man with a ...</td>\n",
              "      <td>NaN</td>\n",
              "      <td>NaN</td>\n",
              "    </tr>\n",
              "    <tr>\n",
              "      <th>4</th>\n",
              "      <td>4</td>\n",
              "      <td>0.0</td>\n",
              "      <td>F</td>\n",
              "      <td>52.0</td>\n",
              "      <td>Pneumonia/Viral/COVID-19</td>\n",
              "      <td>Y</td>\n",
              "      <td>NaN</td>\n",
              "      <td>N</td>\n",
              "      <td>N</td>\n",
              "      <td>N</td>\n",
              "      <td>N</td>\n",
              "      <td>N</td>\n",
              "      <td>NaN</td>\n",
              "      <td>NaN</td>\n",
              "      <td>NaN</td>\n",
              "      <td>NaN</td>\n",
              "      <td>NaN</td>\n",
              "      <td>NaN</td>\n",
              "      <td>PA</td>\n",
              "      <td>X-ray</td>\n",
              "      <td>January 25, 2020</td>\n",
              "      <td>Changhua Christian Hospital, Changhua City, Ta...</td>\n",
              "      <td>images</td>\n",
              "      <td>nejmc2001573_f1a.jpeg</td>\n",
              "      <td>10.1056/NEJMc2001573</td>\n",
              "      <td>https://www.nejm.org/doi/full/10.1056/NEJMc200...</td>\n",
              "      <td>NaN</td>\n",
              "      <td>diffuse infiltrates in the bilateral lower lungs</td>\n",
              "      <td>NaN</td>\n",
              "      <td>NaN</td>\n",
              "    </tr>\n",
              "  </tbody>\n",
              "</table>\n",
              "</div>"
            ],
            "text/plain": [
              "  patientid  offset  ... other_notes  Unnamed: 29\n",
              "0         2     0.0  ...         NaN          NaN\n",
              "1         2     3.0  ...         NaN          NaN\n",
              "2         2     5.0  ...         NaN          NaN\n",
              "3         2     6.0  ...         NaN          NaN\n",
              "4         4     0.0  ...         NaN          NaN\n",
              "\n",
              "[5 rows x 30 columns]"
            ]
          },
          "metadata": {
            "tags": []
          },
          "execution_count": 3
        }
      ]
    },
    {
      "cell_type": "code",
      "metadata": {
        "id": "L4710NgFVZE4",
        "outputId": "4f47e9f9-cd0b-4eb8-db55-cd958996a756",
        "colab": {
          "base_uri": "https://localhost:8080/",
          "height": 297
        }
      },
      "source": [
        "metaData.describe()\n"
      ],
      "execution_count": null,
      "outputs": [
        {
          "output_type": "execute_result",
          "data": {
            "text/html": [
              "<div>\n",
              "<style scoped>\n",
              "    .dataframe tbody tr th:only-of-type {\n",
              "        vertical-align: middle;\n",
              "    }\n",
              "\n",
              "    .dataframe tbody tr th {\n",
              "        vertical-align: top;\n",
              "    }\n",
              "\n",
              "    .dataframe thead th {\n",
              "        text-align: right;\n",
              "    }\n",
              "</style>\n",
              "<table border=\"1\" class=\"dataframe\">\n",
              "  <thead>\n",
              "    <tr style=\"text-align: right;\">\n",
              "      <th></th>\n",
              "      <th>offset</th>\n",
              "      <th>age</th>\n",
              "      <th>temperature</th>\n",
              "      <th>pO2_saturation</th>\n",
              "      <th>leukocyte_count</th>\n",
              "      <th>neutrophil_count</th>\n",
              "      <th>lymphocyte_count</th>\n",
              "    </tr>\n",
              "  </thead>\n",
              "  <tbody>\n",
              "    <tr>\n",
              "      <th>count</th>\n",
              "      <td>697.000000</td>\n",
              "      <td>713.000000</td>\n",
              "      <td>78.000000</td>\n",
              "      <td>119.000000</td>\n",
              "      <td>16.000000</td>\n",
              "      <td>28.000000</td>\n",
              "      <td>40.000000</td>\n",
              "    </tr>\n",
              "    <tr>\n",
              "      <th>mean</th>\n",
              "      <td>9.083214</td>\n",
              "      <td>53.534362</td>\n",
              "      <td>38.898718</td>\n",
              "      <td>78.475630</td>\n",
              "      <td>5.024375</td>\n",
              "      <td>5.307143</td>\n",
              "      <td>4.638050</td>\n",
              "    </tr>\n",
              "    <tr>\n",
              "      <th>std</th>\n",
              "      <td>31.664077</td>\n",
              "      <td>16.949007</td>\n",
              "      <td>6.494383</td>\n",
              "      <td>38.742573</td>\n",
              "      <td>2.660341</td>\n",
              "      <td>3.489956</td>\n",
              "      <td>20.550033</td>\n",
              "    </tr>\n",
              "    <tr>\n",
              "      <th>min</th>\n",
              "      <td>-360.000000</td>\n",
              "      <td>18.000000</td>\n",
              "      <td>36.000000</td>\n",
              "      <td>20.000000</td>\n",
              "      <td>0.220000</td>\n",
              "      <td>0.000000</td>\n",
              "      <td>0.400000</td>\n",
              "    </tr>\n",
              "    <tr>\n",
              "      <th>25%</th>\n",
              "      <td>1.000000</td>\n",
              "      <td>40.000000</td>\n",
              "      <td>37.800000</td>\n",
              "      <td>55.000000</td>\n",
              "      <td>3.067500</td>\n",
              "      <td>2.725000</td>\n",
              "      <td>0.746500</td>\n",
              "    </tr>\n",
              "    <tr>\n",
              "      <th>50%</th>\n",
              "      <td>5.000000</td>\n",
              "      <td>54.000000</td>\n",
              "      <td>38.150000</td>\n",
              "      <td>85.000000</td>\n",
              "      <td>4.745000</td>\n",
              "      <td>4.800000</td>\n",
              "      <td>1.100000</td>\n",
              "    </tr>\n",
              "    <tr>\n",
              "      <th>75%</th>\n",
              "      <td>10.000000</td>\n",
              "      <td>68.000000</td>\n",
              "      <td>38.975000</td>\n",
              "      <td>95.000000</td>\n",
              "      <td>6.857500</td>\n",
              "      <td>6.925000</td>\n",
              "      <td>1.600000</td>\n",
              "    </tr>\n",
              "    <tr>\n",
              "      <th>max</th>\n",
              "      <td>365.000000</td>\n",
              "      <td>94.000000</td>\n",
              "      <td>95.000000</td>\n",
              "      <td>340.000000</td>\n",
              "      <td>11.200000</td>\n",
              "      <td>12.900000</td>\n",
              "      <td>131.000000</td>\n",
              "    </tr>\n",
              "  </tbody>\n",
              "</table>\n",
              "</div>"
            ],
            "text/plain": [
              "           offset         age  ...  neutrophil_count  lymphocyte_count\n",
              "count  697.000000  713.000000  ...         28.000000         40.000000\n",
              "mean     9.083214   53.534362  ...          5.307143          4.638050\n",
              "std     31.664077   16.949007  ...          3.489956         20.550033\n",
              "min   -360.000000   18.000000  ...          0.000000          0.400000\n",
              "25%      1.000000   40.000000  ...          2.725000          0.746500\n",
              "50%      5.000000   54.000000  ...          4.800000          1.100000\n",
              "75%     10.000000   68.000000  ...          6.925000          1.600000\n",
              "max    365.000000   94.000000  ...         12.900000        131.000000\n",
              "\n",
              "[8 rows x 7 columns]"
            ]
          },
          "metadata": {
            "tags": []
          },
          "execution_count": 4
        }
      ]
    },
    {
      "cell_type": "code",
      "metadata": {
        "id": "gpwmLQWEVbxH",
        "outputId": "bea96895-ff4d-46a2-ffd9-c16911fd5286",
        "colab": {
          "base_uri": "https://localhost:8080/",
          "height": 646
        }
      },
      "source": [
        "metaData.info()"
      ],
      "execution_count": null,
      "outputs": [
        {
          "output_type": "stream",
          "text": [
            "<class 'pandas.core.frame.DataFrame'>\n",
            "RangeIndex: 950 entries, 0 to 949\n",
            "Data columns (total 30 columns):\n",
            " #   Column                  Non-Null Count  Dtype  \n",
            "---  ------                  --------------  -----  \n",
            " 0   patientid               950 non-null    object \n",
            " 1   offset                  697 non-null    float64\n",
            " 2   sex                     870 non-null    object \n",
            " 3   age                     713 non-null    float64\n",
            " 4   finding                 950 non-null    object \n",
            " 5   RT_PCR_positive         593 non-null    object \n",
            " 6   survival                361 non-null    object \n",
            " 7   intubated               248 non-null    object \n",
            " 8   intubation_present      250 non-null    object \n",
            " 9   went_icu                397 non-null    object \n",
            " 10  in_icu                  335 non-null    object \n",
            " 11  needed_supplemental_O2  90 non-null     object \n",
            " 12  extubated               37 non-null     object \n",
            " 13  temperature             78 non-null     float64\n",
            " 14  pO2_saturation          119 non-null    float64\n",
            " 15  leukocyte_count         16 non-null     float64\n",
            " 16  neutrophil_count        28 non-null     float64\n",
            " 17  lymphocyte_count        40 non-null     float64\n",
            " 18  view                    950 non-null    object \n",
            " 19  modality                950 non-null    object \n",
            " 20  date                    661 non-null    object \n",
            " 21  location                894 non-null    object \n",
            " 22  folder                  950 non-null    object \n",
            " 23  filename                950 non-null    object \n",
            " 24  doi                     382 non-null    object \n",
            " 25  url                     950 non-null    object \n",
            " 26  license                 705 non-null    object \n",
            " 27  clinical_notes          768 non-null    object \n",
            " 28  other_notes             436 non-null    object \n",
            " 29  Unnamed: 29             5 non-null      object \n",
            "dtypes: float64(7), object(23)\n",
            "memory usage: 222.8+ KB\n"
          ],
          "name": "stdout"
        }
      ]
    },
    {
      "cell_type": "code",
      "metadata": {
        "id": "IzgbA4hPVdiM"
      },
      "source": [
        "metaData['date'].fillna(method='ffill', inplace=True)"
      ],
      "execution_count": null,
      "outputs": []
    },
    {
      "cell_type": "markdown",
      "metadata": {
        "id": "AMeIeiXjxoTc"
      },
      "source": [
        "Drop extra columns:"
      ]
    },
    {
      "cell_type": "code",
      "metadata": {
        "id": "xgDM9hNTViVD"
      },
      "source": [
        "drop_column_list = ['needed_supplemental_O2', 'extubated', \n",
        "                    'temperature', 'pO2_saturation', 'leukocyte_count',\n",
        "                    'neutrophil_count', 'lymphocyte_count',\n",
        "                    'doi','url', 'license', 'clinical_notes', 'other_notes']\n",
        "metaData.drop(drop_column_list, axis=1, inplace=True)"
      ],
      "execution_count": null,
      "outputs": []
    },
    {
      "cell_type": "markdown",
      "metadata": {
        "id": "k81B4DbzxtO7"
      },
      "source": [
        "Fill NAs:"
      ]
    },
    {
      "cell_type": "code",
      "metadata": {
        "id": "HR5-Y5VZVlEa"
      },
      "source": [
        "metaData['sex'].fillna('Unknown', inplace=True)\n",
        "metaData['RT_PCR_positive'].fillna('Unknown', inplace=True)\n",
        "metaData['survival'].fillna('Unknown', inplace=True)\n",
        "metaData['intubated'].fillna('Unknown', inplace=True)\n",
        "metaData['intubation_present'].fillna('Unknown', inplace=True)\n",
        "metaData['went_icu'].fillna('Unknown', inplace=True)\n",
        "metaData['in_icu'].fillna('Unknown', inplace=True)\n",
        "metaData['location'].fillna('Unknown', inplace=True)"
      ],
      "execution_count": null,
      "outputs": []
    },
    {
      "cell_type": "code",
      "metadata": {
        "id": "zsMcPQJAVnEm"
      },
      "source": [
        "metaData['offset'].fillna(np.mean(metaData['offset']), inplace=True)\n",
        "metaData['age'].fillna(np.mean(metaData['age']), inplace=True)"
      ],
      "execution_count": null,
      "outputs": []
    },
    {
      "cell_type": "code",
      "metadata": {
        "id": "P6I0CSOZVpIL",
        "outputId": "eff8bd66-4992-45aa-806a-76bf3ff36081",
        "colab": {
          "base_uri": "https://localhost:8080/",
          "height": 442
        }
      },
      "source": [
        " metaData.info()"
      ],
      "execution_count": null,
      "outputs": [
        {
          "output_type": "stream",
          "text": [
            "<class 'pandas.core.frame.DataFrame'>\n",
            "RangeIndex: 950 entries, 0 to 949\n",
            "Data columns (total 18 columns):\n",
            " #   Column              Non-Null Count  Dtype  \n",
            "---  ------              --------------  -----  \n",
            " 0   patientid           950 non-null    object \n",
            " 1   offset              950 non-null    float64\n",
            " 2   sex                 950 non-null    object \n",
            " 3   age                 950 non-null    float64\n",
            " 4   finding             950 non-null    object \n",
            " 5   RT_PCR_positive     950 non-null    object \n",
            " 6   survival            950 non-null    object \n",
            " 7   intubated           950 non-null    object \n",
            " 8   intubation_present  950 non-null    object \n",
            " 9   went_icu            950 non-null    object \n",
            " 10  in_icu              950 non-null    object \n",
            " 11  view                950 non-null    object \n",
            " 12  modality            950 non-null    object \n",
            " 13  date                950 non-null    object \n",
            " 14  location            950 non-null    object \n",
            " 15  folder              950 non-null    object \n",
            " 16  filename            950 non-null    object \n",
            " 17  Unnamed: 29         5 non-null      object \n",
            "dtypes: float64(2), object(16)\n",
            "memory usage: 133.7+ KB\n"
          ],
          "name": "stdout"
        }
      ]
    },
    {
      "cell_type": "markdown",
      "metadata": {
        "id": "_bK4hK9TxwN9"
      },
      "source": [
        "Check for duplicates:"
      ]
    },
    {
      "cell_type": "code",
      "metadata": {
        "id": "_KqfDeRvVr36"
      },
      "source": [
        "metaData.drop_duplicates(inplace=True)"
      ],
      "execution_count": null,
      "outputs": []
    },
    {
      "cell_type": "code",
      "metadata": {
        "id": "9DLSvYqEVvR6",
        "outputId": "0c31a934-b35d-44af-8f1b-035d73f2a9a1",
        "colab": {
          "base_uri": "https://localhost:8080/",
          "height": 221
        }
      },
      "source": [
        "metaData['finding'].unique()"
      ],
      "execution_count": null,
      "outputs": [
        {
          "output_type": "execute_result",
          "data": {
            "text/plain": [
              "array(['Pneumonia/Viral/COVID-19', 'Pneumonia', 'Pneumonia/Viral/SARS',\n",
              "       'Pneumonia/Fungal/Pneumocystis',\n",
              "       'Pneumonia/Bacterial/Streptococcus', 'No Finding',\n",
              "       'Pneumonia/Bacterial/Chlamydophila', 'Pneumonia/Bacterial/E.Coli',\n",
              "       'Pneumonia/Bacterial/Klebsiella', 'Pneumonia/Bacterial/Legionella',\n",
              "       'Unknown', 'Pneumonia/Lipoid', 'Pneumonia/Viral/Varicella',\n",
              "       'Pneumonia/Bacterial', 'Pneumonia/Bacterial/Mycoplasma',\n",
              "       'Pneumonia/Viral/Influenza', 'todo', 'Tuberculosis',\n",
              "       'Pneumonia/Viral/Influenza/H1N1', 'Pneumonia/Fungal/Aspergillosis',\n",
              "       'Pneumonia/Viral/Herpes ', 'Pneumonia/Aspiration',\n",
              "       'Pneumonia/Bacterial/Nocardia', 'Pneumonia/Viral/MERS-CoV',\n",
              "       'Pneumonia/Bacterial/Staphylococcus/MRSA'], dtype=object)"
            ]
          },
          "metadata": {
            "tags": []
          },
          "execution_count": 12
        }
      ]
    },
    {
      "cell_type": "markdown",
      "metadata": {
        "id": "jjSIQOrBx3Ja"
      },
      "source": [
        "Add a binary column for COVID-19: "
      ]
    },
    {
      "cell_type": "code",
      "metadata": {
        "id": "jaZUDqghVwvM"
      },
      "source": [
        "metaData['COVID-19'] = metaData['finding'].apply(lambda x: True if ('COVID-19' in x) else False)"
      ],
      "execution_count": null,
      "outputs": []
    },
    {
      "cell_type": "markdown",
      "metadata": {
        "id": "k5JnsCX4yArE"
      },
      "source": [
        "Get images and drop records with no image:"
      ]
    },
    {
      "cell_type": "code",
      "metadata": {
        "id": "aAx0LClUVzB_",
        "outputId": "cb230ab0-346f-4e76-cdfb-05a60199d8b0",
        "colab": {
          "base_uri": "https://localhost:8080/",
          "height": 374
        }
      },
      "source": [
        "#image_directory = '../Data/images'\n",
        "url = \"https://raw.githubusercontent.com/ieee8023/covid-chestxray-dataset/master/images/\"\n",
        "\n",
        "remove_row_list = []\n",
        "for i in range(metaData.shape[0]):\n",
        "    filename = metaData.iloc[i,:]['filename']\n",
        "    try:\n",
        "      ret = urllib.request.urlopen(url+filename)\n",
        "    except:\n",
        "      print(i, filename, \"not found\")\n",
        "      remove_row_list.append(i)\n",
        "\n",
        "metaData.drop(remove_row_list, axis=0, inplace=True)"
      ],
      "execution_count": null,
      "outputs": [
        {
          "output_type": "stream",
          "text": [
            "53 radiopaedia_org_covid-19-pneumonia-7_85703_0-dcm.nii.gz not found\n",
            "56 radiopaedia_org_covid-19-pneumonia-14_85914_0-dcm.nii.gz not found\n",
            "225 coronacases_org_001.nii.gz not found\n",
            "226 coronacases_org_002.nii.gz not found\n",
            "227 coronacases_org_003.nii.gz not found\n",
            "228 coronacases_org_004.nii.gz not found\n",
            "229 coronacases_org_005.nii.gz not found\n",
            "230 coronacases_org_006.nii.gz not found\n",
            "231 coronacases_org_007.nii.gz not found\n",
            "232 coronacases_org_008.nii.gz not found\n",
            "233 coronacases_org_009.nii.gz not found\n",
            "234 coronacases_org_010.nii.gz not found\n",
            "235 radiopaedia_org_covid-19-pneumonia-4_85506_1-dcm.nii.gz not found\n",
            "236 radiopaedia_org_covid-19-pneumonia-29_86490_1-dcm.nii.gz not found\n",
            "237 radiopaedia_org_covid-19-pneumonia-29_86491_1-dcm.nii.gz not found\n",
            "241 radiopaedia_org_covid-19-pneumonia-23_86359_0-dcm.nii.gz not found\n",
            "242 radiopaedia_org_covid-19-pneumonia-10_85902_1-dcm.nii.gz not found\n",
            "243 radiopaedia_org_covid-19-pneumonia-10_85902_3-dcm.nii.gz not found\n",
            "244 radiopaedia_org_covid-19-pneumonia-36_86526_0-dcm.nii.gz not found\n",
            "245 radiopaedia_org_covid-19-pneumonia-27_86410_0-dcm.nii.gz not found\n",
            "246 radiopaedia_org_covid-19-pneumonia-40_86625_0-dcm.nii.gz not found\n"
          ],
          "name": "stdout"
        }
      ]
    },
    {
      "cell_type": "code",
      "metadata": {
        "id": "9bGdFTYXV2c9",
        "outputId": "70997971-6ce6-41c0-acf5-8ec58dfe1edb",
        "colab": {
          "base_uri": "https://localhost:8080/",
          "height": 34
        }
      },
      "source": [
        "metaData.shape"
      ],
      "execution_count": null,
      "outputs": [
        {
          "output_type": "execute_result",
          "data": {
            "text/plain": [
              "(929, 19)"
            ]
          },
          "metadata": {
            "tags": []
          },
          "execution_count": 15
        }
      ]
    },
    {
      "cell_type": "code",
      "metadata": {
        "id": "RvBSTLS8WADs",
        "outputId": "98338b8b-cc8c-4183-b842-ca1b02f7e0f1",
        "colab": {
          "base_uri": "https://localhost:8080/",
          "height": 459
        }
      },
      "source": [
        "metaData.info()"
      ],
      "execution_count": null,
      "outputs": [
        {
          "output_type": "stream",
          "text": [
            "<class 'pandas.core.frame.DataFrame'>\n",
            "Int64Index: 929 entries, 0 to 949\n",
            "Data columns (total 19 columns):\n",
            " #   Column              Non-Null Count  Dtype  \n",
            "---  ------              --------------  -----  \n",
            " 0   patientid           929 non-null    object \n",
            " 1   offset              929 non-null    float64\n",
            " 2   sex                 929 non-null    object \n",
            " 3   age                 929 non-null    float64\n",
            " 4   finding             929 non-null    object \n",
            " 5   RT_PCR_positive     929 non-null    object \n",
            " 6   survival            929 non-null    object \n",
            " 7   intubated           929 non-null    object \n",
            " 8   intubation_present  929 non-null    object \n",
            " 9   went_icu            929 non-null    object \n",
            " 10  in_icu              929 non-null    object \n",
            " 11  view                929 non-null    object \n",
            " 12  modality            929 non-null    object \n",
            " 13  date                929 non-null    object \n",
            " 14  location            929 non-null    object \n",
            " 15  folder              929 non-null    object \n",
            " 16  filename            929 non-null    object \n",
            " 17  Unnamed: 29         5 non-null      object \n",
            " 18  COVID-19            929 non-null    bool   \n",
            "dtypes: bool(1), float64(2), object(16)\n",
            "memory usage: 138.8+ KB\n"
          ],
          "name": "stdout"
        }
      ]
    },
    {
      "cell_type": "markdown",
      "metadata": {
        "id": "Ng63ERfBIivs"
      },
      "source": [
        "Copying images to two folders: Positive and Negative:"
      ]
    },
    {
      "cell_type": "code",
      "metadata": {
        "id": "NGDO8EDHWC_x"
      },
      "source": [
        "dstDir = '/content/drive/My Drive/Capstone3-Images'\n",
        "posCls = '/Positive'\n",
        "negCls = '/Negative'\n",
        "os.makedirs(dstDir+posCls)\n",
        "os.makedirs(dstDir+negCls)\n",
        "\n",
        "covid_positive = metaData[metaData['COVID-19']]\n",
        "print('Number of positive cases:', len(covid_positive) )\n",
        "for i in range(len(covid_positive)):\n",
        "    print(i+1, 'of', len(covid_positive))\n",
        "    filename = covid_positive.iloc[i,:]['filename']\n",
        "    r = requests.get(url+filename, stream = True)  \n",
        "    with open(dstDir+posCls+\"/\"+filename, \"wb\") as file:  \n",
        "      for block in r.iter_content(chunk_size = 1024): \n",
        "         if block:  \n",
        "             file.write(block)\n",
        "\n",
        "covid_negative = metaData[metaData['COVID-19']==False]\n",
        "print('Number of negative cases:', len(covid_negative) )\n",
        "for i in range(len(covid_negative)):\n",
        "    filename = covid_negative.iloc[i,:]['filename']\n",
        "    print(i+1, 'of', len(covid_negative))\n",
        "    r = requests.get(url+filename, stream = True)  \n",
        "    with open(dstDir+negCls+\"/\"+filename, \"wb\") as file:  \n",
        "      for block in r.iter_content(chunk_size = 1024): \n",
        "         if block:  \n",
        "             file.write(block)"
      ],
      "execution_count": null,
      "outputs": []
    },
    {
      "cell_type": "markdown",
      "metadata": {
        "id": "psOQINKkIXUH"
      },
      "source": [
        "Next, let's change all image sizes to 256x256."
      ]
    },
    {
      "cell_type": "code",
      "metadata": {
        "id": "JRtCp-kReTKW"
      },
      "source": [
        "srcDir = '/content/drive/My Drive/Capstone3-Images'\n",
        "dstDir = '/content/drive/My Drive/Capstone3-Images-Resized'\n",
        "os.makedirs(dstDir+posCls)\n",
        "os.makedirs(dstDir+negCls)\n",
        "\n",
        "for i in range(len(covid_positive)):\n",
        "    filename = covid_positive.iloc[i,:]['filename']\n",
        "    im = cv2.imread(srcDir+posCls+\"/\"+filename)\n",
        "    resized = cv2.resize(im, (256,256))\n",
        "    cv2.imwrite(dstDir+posCls+\"/\"+filename, resized)\n",
        "\n",
        "for i in range(len(covid_negative)):\n",
        "    filename = covid_negative.iloc[i,:]['filename']\n",
        "    im = cv2.imread(srcDir+negCls+\"/\"+filename)\n",
        "    resized = cv2.resize(im, (256,256))\n",
        "    cv2.imwrite(dstDir+negCls+\"/\"+filename, resized)"
      ],
      "execution_count": null,
      "outputs": []
    },
    {
      "cell_type": "markdown",
      "metadata": {
        "id": "pHLqJw2ICR3-"
      },
      "source": [
        "Split images into train, validation and test:"
      ]
    },
    {
      "cell_type": "code",
      "metadata": {
        "id": "0ChhflMlCRdF",
        "outputId": "87276dab-1e3d-4679-a345-8945d7d02d8d",
        "colab": {
          "base_uri": "https://localhost:8080/",
          "height": 187
        }
      },
      "source": [
        "# Creating Train / Val / Test folders (One time use)\n",
        "root_dir = '/content/drive/My Drive/Capstone3-Images-Split'\n",
        "posCls = '/Positive'\n",
        "negCls = '/Negative'\n",
        "\n",
        "os.makedirs(root_dir +'/train' + posCls)\n",
        "os.makedirs(root_dir +'/train' + negCls)\n",
        "os.makedirs(root_dir +'/val' + posCls)\n",
        "os.makedirs(root_dir +'/val' + negCls)\n",
        "os.makedirs(root_dir +'/test' + posCls)\n",
        "os.makedirs(root_dir +'/test' + negCls)\n",
        "\n",
        "currentCls = posCls\n",
        "src = \"/content/drive/My Drive/Capstone3-Images-Resized\"+currentCls\n",
        "\n",
        "allFileNames = os.listdir(src)\n",
        "np.random.shuffle(allFileNames)\n",
        "train_FileNames, val_FileNames, test_FileNames = np.split(np.array(allFileNames),\n",
        "                                                          [int(len(allFileNames)*0.7), int(len(allFileNames)*0.85)])\n",
        "\n",
        "train_FileNames = [src+'/'+ name for name in train_FileNames.tolist()]\n",
        "val_FileNames = [src+'/' + name for name in val_FileNames.tolist()]\n",
        "test_FileNames = [src+'/' + name for name in test_FileNames.tolist()]\n",
        "\n",
        "print('Positive class')\n",
        "print('Total images: ', len(allFileNames))\n",
        "print('Training: ', len(train_FileNames))\n",
        "print('Validation: ', len(val_FileNames))\n",
        "print('Testing: ', len(test_FileNames))\n",
        "\n",
        "# Copy-pasting images\n",
        "for name in train_FileNames:\n",
        "    shutil.copy(name, root_dir+\"/train\"+currentCls)\n",
        "\n",
        "for name in val_FileNames:\n",
        "    shutil.copy(name, root_dir+\"/val\"+currentCls)\n",
        "\n",
        "for name in test_FileNames:\n",
        "    shutil.copy(name, root_dir+\"/test\"+currentCls)\n",
        "\n",
        "\n",
        "currentCls = negCls\n",
        "src = \"/content/drive/My Drive/Capstone3-Images-Resized\"+currentCls\n",
        "\n",
        "allFileNames = os.listdir(src)\n",
        "np.random.shuffle(allFileNames)\n",
        "train_FileNames, val_FileNames, test_FileNames = np.split(np.array(allFileNames),\n",
        "                                                          [int(len(allFileNames)*0.7), int(len(allFileNames)*0.85)])\n",
        "\n",
        "train_FileNames = [src+'/'+ name for name in train_FileNames.tolist()]\n",
        "val_FileNames = [src+'/' + name for name in val_FileNames.tolist()]\n",
        "test_FileNames = [src+'/' + name for name in test_FileNames.tolist()]\n",
        "\n",
        "print('Negative class')\n",
        "print('Total images: ', len(allFileNames))\n",
        "print('Training: ', len(train_FileNames))\n",
        "print('Validation: ', len(val_FileNames))\n",
        "print('Testing: ', len(test_FileNames))\n",
        "\n",
        "# Copy-pasting images\n",
        "for name in train_FileNames:\n",
        "    shutil.copy(name, root_dir+\"/train\"+currentCls)\n",
        "\n",
        "for name in val_FileNames:\n",
        "    shutil.copy(name, root_dir+\"/val\"+currentCls)\n",
        "\n",
        "for name in test_FileNames:\n",
        "    shutil.copy(name, root_dir+\"/test\"+currentCls)\n"
      ],
      "execution_count": null,
      "outputs": [
        {
          "output_type": "stream",
          "text": [
            "Positive class\n",
            "Total images:  563\n",
            "Training:  394\n",
            "Validation:  84\n",
            "Testing:  85\n",
            "Negative class\n",
            "Total images:  366\n",
            "Training:  256\n",
            "Validation:  55\n",
            "Testing:  55\n"
          ],
          "name": "stdout"
        }
      ]
    },
    {
      "cell_type": "markdown",
      "metadata": {
        "id": "hVCZxvUXSwlS"
      },
      "source": [
        "Augmente training set."
      ]
    },
    {
      "cell_type": "code",
      "metadata": {
        "id": "-TN_5tAFSxq4"
      },
      "source": [
        "datagen = ImageDataGenerator(\n",
        "        rotation_range=40,\n",
        "        width_shift_range=0.2,\n",
        "        height_shift_range=0.2,\n",
        "        shear_range=0.2,\n",
        "        zoom_range=0.2,\n",
        "        horizontal_flip=True,\n",
        "        fill_mode='nearest')\n",
        "\n",
        "srcDirPos = '/content/drive/My Drive/Capstone3-Images-Split/train/Positive/'\n",
        "dstDirPos = srcDirPos\n",
        "\n",
        "allFileNames = os.listdir(srcDirPos)\n",
        "\n",
        "for i in range(len(allFileNames)):\n",
        "    print(i+1,' of ', len(allFileNames))\n",
        "    filename = allFileNames[i]\n",
        "    img = load_img(srcDirPos+filename) \n",
        "    x = img_to_array(img)  # this is a Numpy array with shape (3, 150, 150)\n",
        "    x = x.reshape((1,) + x.shape)  # this is a Numpy array with shape (1, 3, 150, 150)\n",
        "\n",
        "    l = 0\n",
        "    for batch in datagen.flow(x, batch_size=1, save_to_dir=dstDirPos, \n",
        "                              save_prefix=filename.split('.')[0], save_format='jpeg'):\n",
        "      l += 1\n",
        "      if l > 10:\n",
        "          break\n",
        "      print(l)  \n",
        "          \n",
        "srcDirNeg = '/content/drive/My Drive/Capstone3-Images-Split/train/Negative/'\n",
        "dstDirNeg = srcDirNeg\n",
        "\n",
        "allFileNames = os.listdir(srcDirNeg)\n",
        "\n",
        "for i in range(len(allFileNames)):\n",
        "    print(i+1,' of ', len(allFileNames))\n",
        "    filename = allFileNames[i]\n",
        "    img = load_img(srcDirNeg+filename) \n",
        "    x = img_to_array(img)  # this is a Numpy array with shape (3, 150, 150)\n",
        "    x = x.reshape((1,) + x.shape)  # this is a Numpy array with shape (1, 3, 150, 150)\n",
        "\n",
        "    l = 0\n",
        "    for batch in datagen.flow(x, batch_size=1, save_to_dir=dstDirNeg, \n",
        "                              save_prefix=filename.split('.')[0], save_format='jpeg'):\n",
        "      l += 1\n",
        "      if l > 10:\n",
        "          break\n",
        "      print(l)   \n",
        "          \n"
      ],
      "execution_count": null,
      "outputs": []
    },
    {
      "cell_type": "markdown",
      "metadata": {
        "id": "J8KmS04DJKrN"
      },
      "source": [
        "Define base model and freeze it:"
      ]
    },
    {
      "cell_type": "code",
      "metadata": {
        "id": "yFuKhjjcJGDJ",
        "outputId": "05ec0297-d112-4877-a91e-48b7b8a9d2ba",
        "colab": {
          "base_uri": "https://localhost:8080/",
          "height": 68
        }
      },
      "source": [
        "base_model = MobileNet(weights='imagenet',include_top=False) #imports the mobilenet model and discards the last 1000 neuron layer.\n",
        "\n",
        "# Freeze the base_model\n",
        "base_model.trainable = False"
      ],
      "execution_count": null,
      "outputs": [
        {
          "output_type": "stream",
          "text": [
            "WARNING:tensorflow:`input_shape` is undefined or non-square, or `rows` is not in [128, 160, 192, 224]. Weights for input shape (224, 224) will be loaded as the default.\n",
            "Downloading data from https://storage.googleapis.com/tensorflow/keras-applications/mobilenet/mobilenet_1_0_224_tf_no_top.h5\n",
            "17227776/17225924 [==============================] - 0s 0us/step\n"
          ],
          "name": "stdout"
        }
      ]
    },
    {
      "cell_type": "markdown",
      "metadata": {
        "id": "YmJstgypJT8U"
      },
      "source": [
        "Create new model on top of the base model:"
      ]
    },
    {
      "cell_type": "code",
      "metadata": {
        "id": "0rp6PH6PDrAm"
      },
      "source": [
        "x = base_model.output\n",
        "x = GlobalAveragePooling2D()(x)\n",
        "x = Dense(1024,activation='relu')(x) #we add dense layers so that the model can learn more complex functions and classify for better results.\n",
        "x = keras.layers.Dropout(0.5)(x)\n",
        "preds = Dense(2,activation='softmax')(x) #final layer with softmax activation\n",
        "model0 = Model(inputs=base_model.input,outputs=preds)\n",
        "\n",
        "x = base_model.output\n",
        "x = GlobalAveragePooling2D()(x)\n",
        "x = Dense(1024,activation='relu')(x) #we add dense layers so that the model can learn more complex functions and classify for better results.\n",
        "x = keras.layers.Dropout(0.7)(x)\n",
        "preds = Dense(2,activation='softmax')(x) #final layer with softmax activation\n",
        "model1 = Model(inputs=base_model.input,outputs=preds)\n",
        "\n",
        "x = base_model.output\n",
        "x = GlobalAveragePooling2D()(x)\n",
        "x = Dense(1024,activation='relu')(x) #we add dense layers so that the model can learn more complex functions and classify for better results.\n",
        "x = keras.layers.Dropout(0.9)(x)\n",
        "preds = Dense(2,activation='softmax')(x) #final layer with softmax activation\n",
        "model2 = Model(inputs=base_model.input,outputs=preds)\n",
        "\n",
        "x = base_model.output\n",
        "x = GlobalAveragePooling2D()(x)\n",
        "x = Dense(1024,activation='relu')(x) #we add dense layers so that the model can learn more complex functions and classify for better results.\n",
        "x = Dense(1024,activation='relu')(x) #dense layer 2\n",
        "x = keras.layers.Dropout(0.5)(x)\n",
        "preds = Dense(2,activation='softmax')(x) #final layer with softmax activation\n",
        "model3 = Model(inputs=base_model.input,outputs=preds)\n",
        "\n",
        "x = base_model.output\n",
        "x = GlobalAveragePooling2D()(x)\n",
        "x = Dense(1024,activation='relu')(x) #we add dense layers so that the model can learn more complex functions and classify for better results.\n",
        "x = Dense(1024,activation='relu')(x) #dense layer 2\n",
        "x = keras.layers.Dropout(0.7)(x)\n",
        "preds = Dense(2,activation='softmax')(x) #final layer with softmax activation\n",
        "model4 = Model(inputs=base_model.input,outputs=preds)\n",
        "\n",
        "x = base_model.output\n",
        "x = GlobalAveragePooling2D()(x)\n",
        "x = Dense(1024,activation='relu')(x) #we add dense layers so that the model can learn more complex functions and classify for better results.\n",
        "x = Dense(1024,activation='relu')(x) #dense layer 2\n",
        "x = keras.layers.Dropout(0.9)(x)\n",
        "preds = Dense(2,activation='softmax')(x) #final layer with softmax activation\n",
        "model5 = Model(inputs=base_model.input,outputs=preds)\n",
        "\n",
        "x = base_model.output\n",
        "x = GlobalAveragePooling2D()(x)\n",
        "x = Dense(1024,activation='relu')(x) #we add dense layers so that the model can learn more complex functions and classify for better results.\n",
        "x = Dense(1024,activation='relu')(x) #dense layer 2\n",
        "x = Dense(512,activation='relu')(x) #dense layer 3\n",
        "x = keras.layers.Dropout(0.5)(x)\n",
        "preds = Dense(2,activation='softmax')(x) #final layer with softmax activation\n",
        "model6 = Model(inputs=base_model.input,outputs=preds)\n",
        "\n",
        "x = base_model.output\n",
        "x = GlobalAveragePooling2D()(x)\n",
        "x = Dense(1024,activation='relu')(x) #we add dense layers so that the model can learn more complex functions and classify for better results.\n",
        "x = Dense(1024,activation='relu')(x) #dense layer 2\n",
        "x = Dense(512,activation='relu')(x) #dense layer 3\n",
        "x = keras.layers.Dropout(0.7)(x)\n",
        "preds = Dense(2,activation='softmax')(x) #final layer with softmax activation\n",
        "model7 = Model(inputs=base_model.input,outputs=preds)\n",
        "\n",
        "x = base_model.output\n",
        "x = GlobalAveragePooling2D()(x)\n",
        "x = Dense(1024,activation='relu')(x) #we add dense layers so that the model can learn more complex functions and classify for better results.\n",
        "x = Dense(1024,activation='relu')(x) #dense layer 2\n",
        "x = Dense(512,activation='relu')(x) #dense layer 3\n",
        "x = keras.layers.Dropout(0.9)(x)\n",
        "preds = Dense(2,activation='softmax')(x) #final layer with softmax activation\n",
        "model8 = Model(inputs=base_model.input,outputs=preds)\n",
        "\n",
        "#model.summary()"
      ],
      "execution_count": null,
      "outputs": []
    },
    {
      "cell_type": "markdown",
      "metadata": {
        "id": "DkZHSg9-JnM1"
      },
      "source": [
        "Split images into train and validation:"
      ]
    },
    {
      "cell_type": "code",
      "metadata": {
        "id": "S-ZrzxdXJ_LC",
        "outputId": "6973b0db-d3d4-4ba7-fdc9-8c7511df9368",
        "colab": {
          "base_uri": "https://localhost:8080/",
          "height": 68
        }
      },
      "source": [
        "datagen = ImageDataGenerator(preprocessing_function=preprocess_input)\n",
        "\n",
        "\n",
        "train_generator = datagen.flow_from_directory(\n",
        "    directory=root_dir+\"/train/\",\n",
        "    target_size=(256,256),\n",
        "    color_mode=\"rgb\",\n",
        "    batch_size=32,\n",
        "    class_mode=\"categorical\",\n",
        "    shuffle=True,\n",
        "    seed=42\n",
        ")\n",
        "\n",
        "\n",
        "valid_generator = datagen.flow_from_directory(\n",
        "    directory=root_dir+\"/val/\",\n",
        "    target_size=(256,256),\n",
        "    color_mode=\"rgb\",\n",
        "    batch_size=32,\n",
        "    class_mode=\"categorical\",\n",
        "    shuffle=True,\n",
        "    seed=42\n",
        ")\n",
        "\n",
        "test_generator = datagen.flow_from_directory(\n",
        "    directory=root_dir+\"/test/\",\n",
        "    target_size=(256,256),\n",
        "    color_mode=\"rgb\",\n",
        "    batch_size=1,\n",
        "    class_mode=None,\n",
        "    shuffle=False,\n",
        "    seed=42\n",
        ")"
      ],
      "execution_count": null,
      "outputs": [
        {
          "output_type": "stream",
          "text": [
            "Found 7792 images belonging to 2 classes.\n",
            "Found 139 images belonging to 2 classes.\n",
            "Found 140 images belonging to 2 classes.\n"
          ],
          "name": "stdout"
        }
      ]
    },
    {
      "cell_type": "markdown",
      "metadata": {
        "id": "ByG1HiUOJ6Rr"
      },
      "source": [
        "Fitting/training the top layer for different models:"
      ]
    },
    {
      "cell_type": "code",
      "metadata": {
        "id": "r7JoKFg9Ly-6",
        "outputId": "2b9a4df0-8d92-4513-9751-04928d08e35d",
        "colab": {
          "base_uri": "https://localhost:8080/",
          "height": 1000
        }
      },
      "source": [
        "epochs = 10\n",
        "STEP_SIZE_TRAIN=train_generator.n//train_generator.batch_size\n",
        "STEP_SIZE_VALID=valid_generator.n//valid_generator.batch_size\n",
        "\n",
        "\n",
        "print(\"========================================================\")\n",
        "print(\"Model 0:\")\n",
        "model0.compile(\n",
        "    optimizer=keras.optimizers.Adam(),\n",
        "    loss='categorical_crossentropy',\n",
        "    metrics=['accuracy'],\n",
        ")\n",
        "model0.fit_generator(generator=train_generator,\n",
        "                    steps_per_epoch=STEP_SIZE_TRAIN,\n",
        "                    validation_data=valid_generator,\n",
        "                    validation_steps=STEP_SIZE_VALID,\n",
        "                    epochs=epochs)\n",
        "\n",
        "print(\"========================================================\")\n",
        "print(\"Model 1:\")\n",
        "model1.compile(\n",
        "    optimizer=keras.optimizers.Adam(),\n",
        "    loss='categorical_crossentropy',\n",
        "    metrics=['accuracy'],\n",
        ")\n",
        "model1.fit_generator(generator=train_generator,\n",
        "                    steps_per_epoch=STEP_SIZE_TRAIN,\n",
        "                    validation_data=valid_generator,\n",
        "                    validation_steps=STEP_SIZE_VALID,\n",
        "                    epochs=epochs)\n",
        "\n",
        "print(\"========================================================\")\n",
        "print(\"Model 2:\")\n",
        "model2.compile(\n",
        "    optimizer=keras.optimizers.Adam(),\n",
        "    loss='categorical_crossentropy',\n",
        "    metrics=['accuracy'],\n",
        ")\n",
        "model2.fit_generator(generator=train_generator,\n",
        "                    steps_per_epoch=STEP_SIZE_TRAIN,\n",
        "                    validation_data=valid_generator,\n",
        "                    validation_steps=STEP_SIZE_VALID,\n",
        "                    epochs=epochs)\n",
        "\n",
        "print(\"========================================================\")\n",
        "print(\"Model 3:\")\n",
        "model3.compile(\n",
        "    optimizer=keras.optimizers.Adam(),\n",
        "    loss='categorical_crossentropy',\n",
        "    metrics=['accuracy'],\n",
        ")\n",
        "model3.fit_generator(generator=train_generator,\n",
        "                    steps_per_epoch=STEP_SIZE_TRAIN,\n",
        "                    validation_data=valid_generator,\n",
        "                    validation_steps=STEP_SIZE_VALID,\n",
        "                    epochs=epochs)\n",
        "\n",
        "print(\"========================================================\")\n",
        "print(\"Model 4:\")\n",
        "model4.compile(\n",
        "    optimizer=keras.optimizers.Adam(),\n",
        "    loss='categorical_crossentropy',\n",
        "    metrics=['accuracy'],\n",
        ")\n",
        "model4.fit_generator(generator=train_generator,\n",
        "                    steps_per_epoch=STEP_SIZE_TRAIN,\n",
        "                    validation_data=valid_generator,\n",
        "                    validation_steps=STEP_SIZE_VALID,\n",
        "                    epochs=epochs)\n",
        "\n",
        "print(\"========================================================\")\n",
        "print(\"Model 5:\")\n",
        "model5.compile(\n",
        "    optimizer=keras.optimizers.Adam(),\n",
        "    loss='categorical_crossentropy',\n",
        "    metrics=['accuracy'],\n",
        ")\n",
        "model5.fit_generator(generator=train_generator,\n",
        "                    steps_per_epoch=STEP_SIZE_TRAIN,\n",
        "                    validation_data=valid_generator,\n",
        "                    validation_steps=STEP_SIZE_VALID,\n",
        "                    epochs=epochs)\n",
        "\n",
        "print(\"========================================================\")\n",
        "print(\"Model 6:\")\n",
        "model6.compile(\n",
        "    optimizer=keras.optimizers.Adam(),\n",
        "    loss='categorical_crossentropy',\n",
        "    metrics=['accuracy'],\n",
        ")\n",
        "model6.fit_generator(generator=train_generator,\n",
        "                    steps_per_epoch=STEP_SIZE_TRAIN,\n",
        "                    validation_data=valid_generator,\n",
        "                    validation_steps=STEP_SIZE_VALID,\n",
        "                    epochs=epochs)\n",
        "\n",
        "\n",
        "print(\"========================================================\")\n",
        "print(\"Model 7:\")\n",
        "model7.compile(\n",
        "    optimizer=keras.optimizers.Adam(),\n",
        "    loss='categorical_crossentropy',\n",
        "    metrics=['accuracy'],\n",
        ")\n",
        "model7.fit_generator(generator=train_generator,\n",
        "                    steps_per_epoch=STEP_SIZE_TRAIN,\n",
        "                    validation_data=valid_generator,\n",
        "                    validation_steps=STEP_SIZE_VALID,\n",
        "                    epochs=epochs)\n",
        "\n",
        "print(\"========================================================\")\n",
        "print(\"Model 8:\")\n",
        "model8.compile(\n",
        "    optimizer=keras.optimizers.Adam(),\n",
        "    loss='categorical_crossentropy',\n",
        "    metrics=['accuracy'],\n",
        ")\n",
        "model8.fit_generator(generator=train_generator,\n",
        "                    steps_per_epoch=STEP_SIZE_TRAIN,\n",
        "                    validation_data=valid_generator,\n",
        "                    validation_steps=STEP_SIZE_VALID,\n",
        "                    epochs=epochs)\n"
      ],
      "execution_count": null,
      "outputs": [
        {
          "output_type": "stream",
          "text": [
            "========================================================\n",
            "Model 0:\n",
            "WARNING:tensorflow:From <ipython-input-24-6c73176bf8fd>:17: Model.fit_generator (from tensorflow.python.keras.engine.training) is deprecated and will be removed in a future version.\n",
            "Instructions for updating:\n",
            "Please use Model.fit, which supports generators.\n",
            "Epoch 1/10\n",
            "243/243 [==============================] - 464s 2s/step - loss: 0.6230 - accuracy: 0.7201 - val_loss: 0.4619 - val_accuracy: 0.7969\n",
            "Epoch 2/10\n",
            "243/243 [==============================] - 452s 2s/step - loss: 0.4577 - accuracy: 0.7727 - val_loss: 0.4583 - val_accuracy: 0.7812\n",
            "Epoch 3/10\n",
            "243/243 [==============================] - 459s 2s/step - loss: 0.3987 - accuracy: 0.8166 - val_loss: 0.3765 - val_accuracy: 0.8203\n",
            "Epoch 4/10\n",
            "243/243 [==============================] - 457s 2s/step - loss: 0.3541 - accuracy: 0.8393 - val_loss: 0.3635 - val_accuracy: 0.8125\n",
            "Epoch 5/10\n",
            "243/243 [==============================] - 457s 2s/step - loss: 0.3224 - accuracy: 0.8584 - val_loss: 0.4347 - val_accuracy: 0.7969\n",
            "Epoch 6/10\n",
            "243/243 [==============================] - 457s 2s/step - loss: 0.2918 - accuracy: 0.8745 - val_loss: 0.5088 - val_accuracy: 0.7734\n",
            "Epoch 7/10\n",
            "243/243 [==============================] - 455s 2s/step - loss: 0.2642 - accuracy: 0.8889 - val_loss: 0.4823 - val_accuracy: 0.8438\n",
            "Epoch 8/10\n",
            "243/243 [==============================] - 456s 2s/step - loss: 0.2466 - accuracy: 0.8964 - val_loss: 0.5033 - val_accuracy: 0.8203\n",
            "Epoch 9/10\n",
            "243/243 [==============================] - 457s 2s/step - loss: 0.2277 - accuracy: 0.9023 - val_loss: 0.5116 - val_accuracy: 0.8281\n",
            "Epoch 10/10\n",
            "243/243 [==============================] - 456s 2s/step - loss: 0.2096 - accuracy: 0.9103 - val_loss: 0.6189 - val_accuracy: 0.8047\n",
            "========================================================\n",
            "Model 1:\n",
            "Epoch 1/10\n",
            "243/243 [==============================] - 459s 2s/step - loss: 0.6826 - accuracy: 0.6790 - val_loss: 0.4552 - val_accuracy: 0.8203\n",
            "Epoch 2/10\n",
            "243/243 [==============================] - 456s 2s/step - loss: 0.5045 - accuracy: 0.7490 - val_loss: 0.4293 - val_accuracy: 0.8125\n",
            "Epoch 3/10\n",
            "243/243 [==============================] - 457s 2s/step - loss: 0.4758 - accuracy: 0.7668 - val_loss: 0.4462 - val_accuracy: 0.8047\n",
            "Epoch 4/10\n",
            "243/243 [==============================] - 457s 2s/step - loss: 0.4435 - accuracy: 0.7845 - val_loss: 0.4484 - val_accuracy: 0.8047\n",
            "Epoch 5/10\n",
            "243/243 [==============================] - 461s 2s/step - loss: 0.4299 - accuracy: 0.7918 - val_loss: 0.4567 - val_accuracy: 0.7969\n",
            "Epoch 6/10\n",
            "243/243 [==============================] - 437s 2s/step - loss: 0.4046 - accuracy: 0.8098 - val_loss: 0.4564 - val_accuracy: 0.7969\n",
            "Epoch 7/10\n",
            "243/243 [==============================] - 448s 2s/step - loss: 0.3905 - accuracy: 0.8183 - val_loss: 0.4429 - val_accuracy: 0.8125\n",
            "Epoch 8/10\n",
            "243/243 [==============================] - 444s 2s/step - loss: 0.3719 - accuracy: 0.8281 - val_loss: 0.4315 - val_accuracy: 0.8047\n",
            "Epoch 9/10\n",
            "243/243 [==============================] - 455s 2s/step - loss: 0.3540 - accuracy: 0.8376 - val_loss: 0.4628 - val_accuracy: 0.8203\n",
            "Epoch 10/10\n",
            "243/243 [==============================] - 450s 2s/step - loss: 0.3377 - accuracy: 0.8448 - val_loss: 0.4597 - val_accuracy: 0.8281\n",
            "========================================================\n",
            "Model 2:\n",
            "Epoch 1/10\n",
            "243/243 [==============================] - 446s 2s/step - loss: 0.8679 - accuracy: 0.6281 - val_loss: 0.5571 - val_accuracy: 0.7344\n",
            "Epoch 2/10\n",
            "243/243 [==============================] - 449s 2s/step - loss: 0.6070 - accuracy: 0.6677 - val_loss: 0.5165 - val_accuracy: 0.7891\n",
            "Epoch 3/10\n",
            "243/243 [==============================] - 462s 2s/step - loss: 0.5855 - accuracy: 0.6762 - val_loss: 0.5226 - val_accuracy: 0.7656\n",
            "Epoch 4/10\n",
            "243/243 [==============================] - 452s 2s/step - loss: 0.5735 - accuracy: 0.6923 - val_loss: 0.4841 - val_accuracy: 0.7891\n",
            "Epoch 5/10\n",
            "243/243 [==============================] - 462s 2s/step - loss: 0.5753 - accuracy: 0.6832 - val_loss: 0.5231 - val_accuracy: 0.8359\n",
            "Epoch 6/10\n",
            "243/243 [==============================] - 458s 2s/step - loss: 0.5631 - accuracy: 0.6840 - val_loss: 0.4684 - val_accuracy: 0.8047\n",
            "Epoch 7/10\n",
            "243/243 [==============================] - 461s 2s/step - loss: 0.5606 - accuracy: 0.6874 - val_loss: 0.4562 - val_accuracy: 0.8438\n",
            "Epoch 8/10\n",
            "243/243 [==============================] - 457s 2s/step - loss: 0.5525 - accuracy: 0.6865 - val_loss: 0.4875 - val_accuracy: 0.7969\n",
            "Epoch 9/10\n",
            "243/243 [==============================] - 448s 2s/step - loss: 0.5460 - accuracy: 0.6955 - val_loss: 0.4854 - val_accuracy: 0.8125\n",
            "Epoch 10/10\n",
            "243/243 [==============================] - 444s 2s/step - loss: 0.5321 - accuracy: 0.7054 - val_loss: 0.4675 - val_accuracy: 0.8516\n",
            "========================================================\n",
            "Model 3:\n",
            "Epoch 1/10\n",
            "243/243 [==============================] - 455s 2s/step - loss: 0.5787 - accuracy: 0.7286 - val_loss: 0.4576 - val_accuracy: 0.8047\n",
            "Epoch 2/10\n",
            "243/243 [==============================] - 455s 2s/step - loss: 0.3609 - accuracy: 0.8334 - val_loss: 0.6736 - val_accuracy: 0.7578\n",
            "Epoch 3/10\n",
            "243/243 [==============================] - 457s 2s/step - loss: 0.2649 - accuracy: 0.8834 - val_loss: 0.5295 - val_accuracy: 0.8125\n",
            "Epoch 4/10\n",
            "243/243 [==============================] - 460s 2s/step - loss: 0.2051 - accuracy: 0.9153 - val_loss: 0.5599 - val_accuracy: 0.8125\n",
            "Epoch 5/10\n",
            "243/243 [==============================] - 460s 2s/step - loss: 0.1820 - accuracy: 0.9267 - val_loss: 0.8155 - val_accuracy: 0.8047\n",
            "Epoch 6/10\n",
            "243/243 [==============================] - 457s 2s/step - loss: 0.1303 - accuracy: 0.9454 - val_loss: 0.4838 - val_accuracy: 0.8438\n",
            "Epoch 7/10\n",
            "243/243 [==============================] - 418s 2s/step - loss: 0.1060 - accuracy: 0.9548 - val_loss: 1.0607 - val_accuracy: 0.7656\n",
            "Epoch 8/10\n",
            "243/243 [==============================] - 460s 2s/step - loss: 0.0773 - accuracy: 0.9680 - val_loss: 0.8236 - val_accuracy: 0.7812\n",
            "Epoch 9/10\n",
            "243/243 [==============================] - 434s 2s/step - loss: 0.0876 - accuracy: 0.9665 - val_loss: 0.8967 - val_accuracy: 0.7812\n",
            "Epoch 10/10\n",
            "243/243 [==============================] - 411s 2s/step - loss: 0.0566 - accuracy: 0.9786 - val_loss: 0.9404 - val_accuracy: 0.8047\n",
            "========================================================\n",
            "Model 4:\n",
            "Epoch 1/10\n",
            "243/243 [==============================] - 414s 2s/step - loss: 0.5860 - accuracy: 0.7161 - val_loss: 0.4448 - val_accuracy: 0.8125\n",
            "Epoch 2/10\n",
            "243/243 [==============================] - 415s 2s/step - loss: 0.3762 - accuracy: 0.8294 - val_loss: 0.4812 - val_accuracy: 0.8203\n",
            "Epoch 3/10\n",
            "243/243 [==============================] - 417s 2s/step - loss: 0.2812 - accuracy: 0.8808 - val_loss: 0.5631 - val_accuracy: 0.7734\n",
            "Epoch 4/10\n",
            "243/243 [==============================] - 418s 2s/step - loss: 0.2183 - accuracy: 0.9094 - val_loss: 0.5938 - val_accuracy: 0.8125\n",
            "Epoch 5/10\n",
            "243/243 [==============================] - 435s 2s/step - loss: 0.1688 - accuracy: 0.9304 - val_loss: 0.5933 - val_accuracy: 0.8359\n",
            "Epoch 6/10\n",
            "243/243 [==============================] - 428s 2s/step - loss: 0.1307 - accuracy: 0.9497 - val_loss: 0.6618 - val_accuracy: 0.8438\n",
            "Epoch 7/10\n",
            "243/243 [==============================] - 438s 2s/step - loss: 0.1025 - accuracy: 0.9601 - val_loss: 0.8137 - val_accuracy: 0.8359\n",
            "Epoch 8/10\n",
            "243/243 [==============================] - 433s 2s/step - loss: 0.1053 - accuracy: 0.9611 - val_loss: 1.1634 - val_accuracy: 0.7969\n",
            "Epoch 9/10\n",
            "243/243 [==============================] - 460s 2s/step - loss: 0.0799 - accuracy: 0.9704 - val_loss: 0.8910 - val_accuracy: 0.8047\n",
            "Epoch 10/10\n",
            "243/243 [==============================] - 443s 2s/step - loss: 0.0823 - accuracy: 0.9693 - val_loss: 0.6523 - val_accuracy: 0.8281\n",
            "========================================================\n",
            "Model 5:\n",
            "Epoch 1/10\n",
            "243/243 [==============================] - 445s 2s/step - loss: 0.7027 - accuracy: 0.6726 - val_loss: 0.5446 - val_accuracy: 0.7188\n",
            "Epoch 2/10\n",
            "243/243 [==============================] - 445s 2s/step - loss: 0.4247 - accuracy: 0.8001 - val_loss: 0.4943 - val_accuracy: 0.7969\n",
            "Epoch 3/10\n",
            "243/243 [==============================] - 437s 2s/step - loss: 0.3246 - accuracy: 0.8561 - val_loss: 0.5402 - val_accuracy: 0.7812\n",
            "Epoch 4/10\n",
            "243/243 [==============================] - 460s 2s/step - loss: 0.2863 - accuracy: 0.8778 - val_loss: 0.6173 - val_accuracy: 0.7734\n",
            "Epoch 5/10\n",
            "243/243 [==============================] - 446s 2s/step - loss: 0.2267 - accuracy: 0.9036 - val_loss: 0.6978 - val_accuracy: 0.8047\n",
            "Epoch 6/10\n",
            "243/243 [==============================] - 444s 2s/step - loss: 0.1947 - accuracy: 0.9179 - val_loss: 0.6195 - val_accuracy: 0.8203\n",
            "Epoch 7/10\n",
            "243/243 [==============================] - 439s 2s/step - loss: 0.1720 - accuracy: 0.9309 - val_loss: 0.6273 - val_accuracy: 0.8203\n",
            "Epoch 8/10\n",
            "243/243 [==============================] - 439s 2s/step - loss: 0.1261 - accuracy: 0.9540 - val_loss: 0.7426 - val_accuracy: 0.7812\n",
            "Epoch 9/10\n",
            "243/243 [==============================] - 442s 2s/step - loss: 0.1435 - accuracy: 0.9433 - val_loss: 0.7064 - val_accuracy: 0.8359\n",
            "Epoch 10/10\n",
            "243/243 [==============================] - 433s 2s/step - loss: 0.1145 - accuracy: 0.9530 - val_loss: 0.8289 - val_accuracy: 0.7891\n",
            "========================================================\n",
            "Model 6:\n",
            "Epoch 1/10\n",
            "243/243 [==============================] - 443s 2s/step - loss: 0.5436 - accuracy: 0.7312 - val_loss: 0.5201 - val_accuracy: 0.7500\n",
            "Epoch 2/10\n",
            "243/243 [==============================] - 434s 2s/step - loss: 0.3757 - accuracy: 0.8289 - val_loss: 0.5466 - val_accuracy: 0.7891\n",
            "Epoch 3/10\n",
            "243/243 [==============================] - 443s 2s/step - loss: 0.2934 - accuracy: 0.8755 - val_loss: 0.4995 - val_accuracy: 0.8125\n",
            "Epoch 4/10\n",
            "243/243 [==============================] - 446s 2s/step - loss: 0.2211 - accuracy: 0.9086 - val_loss: 0.5783 - val_accuracy: 0.8047\n",
            "Epoch 5/10\n",
            "243/243 [==============================] - 450s 2s/step - loss: 0.1676 - accuracy: 0.9318 - val_loss: 0.8160 - val_accuracy: 0.8125\n",
            "Epoch 6/10\n",
            "243/243 [==============================] - 441s 2s/step - loss: 0.1515 - accuracy: 0.9398 - val_loss: 0.6828 - val_accuracy: 0.8203\n",
            "Epoch 7/10\n",
            "243/243 [==============================] - 447s 2s/step - loss: 0.1239 - accuracy: 0.9503 - val_loss: 0.7965 - val_accuracy: 0.7891\n",
            "Epoch 8/10\n",
            "243/243 [==============================] - 450s 2s/step - loss: 0.0892 - accuracy: 0.9646 - val_loss: 0.8819 - val_accuracy: 0.8281\n",
            "Epoch 9/10\n",
            "243/243 [==============================] - 450s 2s/step - loss: 0.0847 - accuracy: 0.9666 - val_loss: 0.9220 - val_accuracy: 0.8125\n",
            "Epoch 10/10\n",
            "243/243 [==============================] - 441s 2s/step - loss: 0.0765 - accuracy: 0.9696 - val_loss: 0.9743 - val_accuracy: 0.8047\n",
            "========================================================\n",
            "Model 7:\n",
            "Epoch 1/10\n",
            "243/243 [==============================] - 452s 2s/step - loss: 0.5617 - accuracy: 0.7226 - val_loss: 0.4673 - val_accuracy: 0.8047\n",
            "Epoch 2/10\n",
            "243/243 [==============================] - 440s 2s/step - loss: 0.3885 - accuracy: 0.8220 - val_loss: 0.5627 - val_accuracy: 0.7500\n",
            "Epoch 3/10\n",
            "243/243 [==============================] - 443s 2s/step - loss: 0.2891 - accuracy: 0.8769 - val_loss: 0.5692 - val_accuracy: 0.8125\n",
            "Epoch 4/10\n",
            "243/243 [==============================] - 443s 2s/step - loss: 0.2379 - accuracy: 0.9009 - val_loss: 0.6423 - val_accuracy: 0.7734\n",
            "Epoch 5/10\n",
            "243/243 [==============================] - 452s 2s/step - loss: 0.1782 - accuracy: 0.9273 - val_loss: 0.5831 - val_accuracy: 0.8047\n",
            "Epoch 6/10\n",
            "243/243 [==============================] - 448s 2s/step - loss: 0.1842 - accuracy: 0.9293 - val_loss: 0.7787 - val_accuracy: 0.8125\n",
            "Epoch 7/10\n",
            "243/243 [==============================] - 455s 2s/step - loss: 0.1244 - accuracy: 0.9505 - val_loss: 0.8030 - val_accuracy: 0.7969\n",
            "Epoch 8/10\n",
            "243/243 [==============================] - 465s 2s/step - loss: 0.1229 - accuracy: 0.9537 - val_loss: 0.6848 - val_accuracy: 0.8281\n",
            "Epoch 9/10\n",
            "243/243 [==============================] - 457s 2s/step - loss: 0.0852 - accuracy: 0.9671 - val_loss: 0.8036 - val_accuracy: 0.8672\n",
            "Epoch 10/10\n",
            "243/243 [==============================] - 468s 2s/step - loss: 0.0851 - accuracy: 0.9662 - val_loss: 1.3620 - val_accuracy: 0.7734\n",
            "========================================================\n",
            "Model 8:\n",
            "Epoch 1/10\n",
            "243/243 [==============================] - 463s 2s/step - loss: 0.6572 - accuracy: 0.6756 - val_loss: 0.4966 - val_accuracy: 0.7188\n",
            "Epoch 2/10\n",
            "243/243 [==============================] - 455s 2s/step - loss: 0.4442 - accuracy: 0.7879 - val_loss: 0.4362 - val_accuracy: 0.7891\n",
            "Epoch 3/10\n",
            "243/243 [==============================] - 455s 2s/step - loss: 0.3379 - accuracy: 0.8523 - val_loss: 0.4268 - val_accuracy: 0.8359\n",
            "Epoch 4/10\n",
            "243/243 [==============================] - 454s 2s/step - loss: 0.2955 - accuracy: 0.8745 - val_loss: 0.4887 - val_accuracy: 0.8047\n",
            "Epoch 5/10\n",
            "243/243 [==============================] - 457s 2s/step - loss: 0.2284 - accuracy: 0.9019 - val_loss: 0.5248 - val_accuracy: 0.8984\n",
            "Epoch 6/10\n",
            "243/243 [==============================] - 461s 2s/step - loss: 0.1764 - accuracy: 0.9285 - val_loss: 0.7188 - val_accuracy: 0.8281\n",
            "Epoch 7/10\n",
            "243/243 [==============================] - 469s 2s/step - loss: 0.1555 - accuracy: 0.9410 - val_loss: 0.7740 - val_accuracy: 0.8359\n",
            "Epoch 8/10\n",
            "243/243 [==============================] - 460s 2s/step - loss: 0.1269 - accuracy: 0.9509 - val_loss: 0.6938 - val_accuracy: 0.8359\n",
            "Epoch 9/10\n",
            "243/243 [==============================] - 451s 2s/step - loss: 0.1083 - accuracy: 0.9599 - val_loss: 0.6916 - val_accuracy: 0.8359\n",
            "Epoch 10/10\n",
            "243/243 [==============================] - 458s 2s/step - loss: 0.0986 - accuracy: 0.9656 - val_loss: 1.2776 - val_accuracy: 0.7812\n"
          ],
          "name": "stdout"
        },
        {
          "output_type": "execute_result",
          "data": {
            "text/plain": [
              "<tensorflow.python.keras.callbacks.History at 0x7f7cf8de7c50>"
            ]
          },
          "metadata": {
            "tags": []
          },
          "execution_count": 24
        }
      ]
    },
    {
      "cell_type": "markdown",
      "metadata": {
        "id": "xhfw6eEREpq1"
      },
      "source": [
        "Next, let's evaluate models 1 and 2 on validation set:"
      ]
    },
    {
      "cell_type": "code",
      "metadata": {
        "id": "xquXqNbcLFsY",
        "outputId": "0e9591d0-d0e4-444f-9c43-c99dde07ef2a",
        "colab": {
          "base_uri": "https://localhost:8080/",
          "height": 85
        }
      },
      "source": [
        "model1.evaluate_generator(generator=valid_generator, steps=STEP_SIZE_VALID)"
      ],
      "execution_count": null,
      "outputs": [
        {
          "output_type": "stream",
          "text": [
            "WARNING:tensorflow:From <ipython-input-26-517ab0dd2cff>:1: Model.evaluate_generator (from tensorflow.python.keras.engine.training) is deprecated and will be removed in a future version.\n",
            "Instructions for updating:\n",
            "Please use Model.evaluate, which supports generators.\n"
          ],
          "name": "stdout"
        },
        {
          "output_type": "execute_result",
          "data": {
            "text/plain": [
              "[0.4740726351737976, 0.8125]"
            ]
          },
          "metadata": {
            "tags": []
          },
          "execution_count": 26
        }
      ]
    },
    {
      "cell_type": "code",
      "metadata": {
        "id": "swWnM9RCEcjP",
        "outputId": "c8c2adb0-38b8-49ce-f30e-c81f304d3fa4",
        "colab": {
          "base_uri": "https://localhost:8080/",
          "height": 34
        }
      },
      "source": [
        "model2.evaluate_generator(generator=valid_generator, steps=STEP_SIZE_VALID)"
      ],
      "execution_count": null,
      "outputs": [
        {
          "output_type": "execute_result",
          "data": {
            "text/plain": [
              "[0.446833074092865, 0.8515625]"
            ]
          },
          "metadata": {
            "tags": []
          },
          "execution_count": 27
        }
      ]
    },
    {
      "cell_type": "markdown",
      "metadata": {
        "id": "DwIu19FJLTvl"
      },
      "source": [
        "Finally, let's unfreeze the base model and train the entire model end-to-end with a low learning rate."
      ]
    },
    {
      "cell_type": "code",
      "metadata": {
        "id": "D_RqDcqjLTMy"
      },
      "source": [
        "base_model.trainable = True\n",
        "#model.summary()"
      ],
      "execution_count": null,
      "outputs": []
    },
    {
      "cell_type": "code",
      "metadata": {
        "id": "bUwznSn6S9HA"
      },
      "source": [
        "\n",
        "#model.compile(\n",
        "#    optimizer=keras.optimizers.Adam(1e-5),  # Low learning rate\n",
        "#    loss='categorical_crossentropy',\n",
        "#    metrics=['accuracy'],\n",
        "#)\n",
        "\n",
        "print(\"========================================================\")\n",
        "print(\"Model 1:\")\n",
        "model1.fit_generator(generator=train_generator,\n",
        "                    steps_per_epoch=STEP_SIZE_TRAIN,\n",
        "                    validation_data=valid_generator,\n",
        "                    validation_steps=STEP_SIZE_VALID,\n",
        "                    epochs=epochs)\n",
        "\n",
        "print(\"========================================================\")\n",
        "print(\"Model 2:\")\n",
        "model2.fit_generator(generator=train_generator,\n",
        "                    steps_per_epoch=STEP_SIZE_TRAIN,\n",
        "                    validation_data=valid_generator,\n",
        "                    validation_steps=STEP_SIZE_VALID,\n",
        "                    epochs=epochs)\n",
        "\n"
      ],
      "execution_count": null,
      "outputs": []
    },
    {
      "cell_type": "code",
      "metadata": {
        "id": "4mRF5f9dFQoX"
      },
      "source": [
        "STEP_SIZE_TEST=test_generator.n//test_generator.batch_size\n",
        "test_generator.reset()\n",
        "pred=model.predict_generator(test_generator, steps=STEP_SIZE_TEST, verbose=1)"
      ],
      "execution_count": null,
      "outputs": []
    }
  ]
}